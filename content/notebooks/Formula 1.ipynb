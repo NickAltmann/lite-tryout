{
 "cells": [
  {
   "cell_type": "code",
   "execution_count": 4,
   "metadata": {},
   "outputs": [
    {
     "name": "stdout",
     "output_type": "stream",
     "text": [
      "Verstappen\n",
      "Piastri\n",
      "Norris\n",
      "Leclerc\n",
      "Sainz\n",
      "Russell\n",
      "Tsunoda\n",
      "Hamilton\n",
      "Ricciardo\n",
      "Hulkenberg\n",
      "Perez\n",
      "Ocon\n",
      "Stroll\n",
      "Albon\n",
      "Gasly\n",
      "Bottas\n",
      "Zhou\n",
      "Magnussen\n",
      "Alonso\n",
      "Sargeant\n"
     ]
    }
   ],
   "source": [
    "year = '2024'\n",
    "race = 'Emilia Romagna'\n",
    "p = QualiParser()\n",
    "grid = p.get_grid(year, race)\n",
    "for x in grid:\n",
    "    print (str(x))\n",
    "\n"
   ]
  },
  {
   "cell_type": "code",
   "execution_count": 3,
   "metadata": {},
   "outputs": [
    {
     "name": "stdout",
     "output_type": "stream",
     "text": [
      "Bahrain\n",
      "Saudi Arabia\n",
      "Australia\n",
      "Japan\n",
      "China\n",
      "Miami\n",
      "Emilia Romagna\n",
      "Monaco\n",
      "Canada\n",
      "Spain\n",
      "Austria\n",
      "Great Britain\n",
      "Hungary\n",
      "Belgium\n",
      "Netherlands\n",
      "Italy\n",
      "Azerbaijan\n",
      "Singapore\n",
      "United States\n",
      "Mexico\n",
      "Brazil\n",
      "Las Vegas\n",
      "Qatar\n",
      "Abu Dhabi\n"
     ]
    }
   ],
   "source": [
    "p = QualiParser()\n",
    "races = p.get_races(2024)\n",
    "for r in races:\n",
    "    print(r)"
   ]
  },
  {
   "cell_type": "code",
   "execution_count": 1,
   "metadata": {},
   "outputs": [],
   "source": [
    "import unicodedata\n",
    "import requests\n",
    "from collections import OrderedDict\n",
    "from bs4 import BeautifulSoup\n",
    "\n",
    "\n",
    "class QualiParser(object):\n",
    "\n",
    "    def __init__(self):\n",
    "        self._root = 'https://www.formula1.com'\n",
    "        self._race_links = {}\n",
    "        self._translation = {\n",
    "            \"Guanyu\": \"Zhou\"\n",
    "        }\n",
    "\n",
    "    def get_grid(self, year, race):\n",
    "        link = self._get_quali_links(year)[race]\n",
    "        url = self._root + link\n",
    "        return self._get_grid_from_link(url)\n",
    "    \n",
    "    def get_full(self, year, race):\n",
    "        link = self._get_quali_links(year)[race]\n",
    "        url = self._root + link\n",
    "        return self._get_full_from_link(url)       \n",
    "        \n",
    "    def get_races(self, year):\n",
    "        return [x.strip() for x in self._get_race_links(year).keys()]\n",
    "    \n",
    "    def _get_race_links(self, year):\n",
    "        if year not in self._race_links:\n",
    "            url = \"%s/en/results.html/%s/races.html\" % (self._root, year)\n",
    "            r = requests.get(url)\n",
    "            soup = BeautifulSoup(r.text, 'html.parser')\n",
    "            ll = [(x.span.text.strip(), x['href']) for x in soup.find_all(attrs={\"data-name\": \"meetingKey\"}) if x.span.text != \"All\"]\n",
    "            self._race_links[year] = OrderedDict(ll)\n",
    "        return self._race_links[year]\n",
    "        \n",
    "    def _get_quali_links(self, year):\n",
    "        return {k: v.replace('race-result.html', 'qualifying.html') for (k, v) in self._get_race_links(year).items()}\n",
    "        \n",
    "    def _normalise(self, s):\n",
    "        norm =  ''.join(c for c in unicodedata.normalize('NFD', s) if unicodedata.category(c) != 'Mn')\n",
    "        trans = self._translation.get(norm, norm)\n",
    "        return trans\n",
    "\n",
    "    def _table_from_link(self, url):\n",
    "        r = requests.get(url)\n",
    "        r.encoding = 'utf-8'\n",
    "        soup = BeautifulSoup(r.text, 'html.parser')\n",
    "        table = soup.find(attrs={\"class\": \"resultsarchive-table\"})\n",
    "        return table\n",
    "        \n",
    "    def _get_grid_from_link(self, url):        \n",
    "        table = self._table_from_link(url)\n",
    "        \n",
    "        grid = [self._normalise(x('td')[3]('span')[1].text) for x in table.tbody('tr')]\n",
    "        \n",
    "        return grid\n",
    "        \n",
    "    def _get_full_from_link(self, url):\n",
    "        table = self._table_from_link(url)\n",
    "        \n",
    "        def details_from_row(row):\n",
    "            forename = self._normalise(row('td')[3]('span')[0].text)\n",
    "            surname = self._normalise(row('td')[3]('span')[1].text)\n",
    "            return forename, surname\n",
    "        \n",
    "        full = [details_from_row(x) for x in table.tbody('tr')]\n",
    "        \n",
    "        return full\n",
    "\n"
   ]
  },
  {
   "cell_type": "code",
   "execution_count": null,
   "metadata": {},
   "outputs": [],
   "source": [
    "url = 'https://www.formula1.com/en/results.html/2016/races/954/united-states/qualifying.html'\n",
    "r = requests.get(url)\n",
    "r.encoding = 'utf-8'\n",
    "r.text"
   ]
  }
 ],
 "metadata": {
  "kernelspec": {
   "display_name": "Python 3 (ipykernel)",
   "language": "python",
   "name": "python3"
  },
  "language_info": {
   "codemirror_mode": {
    "name": "ipython",
    "version": 3
   },
   "file_extension": ".py",
   "mimetype": "text/x-python",
   "name": "python",
   "nbconvert_exporter": "python",
   "pygments_lexer": "ipython3",
   "version": "3.12.3"
  }
 },
 "nbformat": 4,
 "nbformat_minor": 4
}
